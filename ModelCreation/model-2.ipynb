{
 "cells": [
  {
   "cell_type": "code",
   "execution_count": 1,
   "id": "0d8f1010",
   "metadata": {},
   "outputs": [],
   "source": [
    "import tensorflow as tf\n",
    "import pandas as pd\n",
    "from tensorflow.keras.preprocessing.text import Tokenizer\n",
    "from tensorflow.keras.preprocessing.sequence import pad_sequences\n",
    "tokenizer = Tokenizer(oov_token=\"<OOV>\")"
   ]
  },
  {
   "cell_type": "code",
   "execution_count": 2,
   "id": "b72e0e0b",
   "metadata": {},
   "outputs": [
    {
     "data": {
      "text/html": [
       "<div>\n",
       "<style scoped>\n",
       "    .dataframe tbody tr th:only-of-type {\n",
       "        vertical-align: middle;\n",
       "    }\n",
       "\n",
       "    .dataframe tbody tr th {\n",
       "        vertical-align: top;\n",
       "    }\n",
       "\n",
       "    .dataframe thead th {\n",
       "        text-align: right;\n",
       "    }\n",
       "</style>\n",
       "<table border=\"1\" class=\"dataframe\">\n",
       "  <thead>\n",
       "    <tr style=\"text-align: right;\">\n",
       "      <th></th>\n",
       "      <th>name</th>\n",
       "      <th>review</th>\n",
       "      <th>rating</th>\n",
       "    </tr>\n",
       "  </thead>\n",
       "  <tbody>\n",
       "    <tr>\n",
       "      <th>0</th>\n",
       "      <td>Planetwise Flannel Wipes</td>\n",
       "      <td>These flannel wipes are OK, but in my opinion ...</td>\n",
       "      <td>3</td>\n",
       "    </tr>\n",
       "    <tr>\n",
       "      <th>1</th>\n",
       "      <td>Planetwise Wipe Pouch</td>\n",
       "      <td>it came early and was not disappointed. i love...</td>\n",
       "      <td>5</td>\n",
       "    </tr>\n",
       "    <tr>\n",
       "      <th>2</th>\n",
       "      <td>Annas Dream Full Quilt with 2 Shams</td>\n",
       "      <td>Very soft and comfortable and warmer than it l...</td>\n",
       "      <td>5</td>\n",
       "    </tr>\n",
       "    <tr>\n",
       "      <th>3</th>\n",
       "      <td>Stop Pacifier Sucking without tears with Thumb...</td>\n",
       "      <td>This is a product well worth the purchase.  I ...</td>\n",
       "      <td>5</td>\n",
       "    </tr>\n",
       "    <tr>\n",
       "      <th>4</th>\n",
       "      <td>Stop Pacifier Sucking without tears with Thumb...</td>\n",
       "      <td>All of my kids have cried non-stop when I trie...</td>\n",
       "      <td>5</td>\n",
       "    </tr>\n",
       "  </tbody>\n",
       "</table>\n",
       "</div>"
      ],
      "text/plain": [
       "                                                name  \\\n",
       "0                           Planetwise Flannel Wipes   \n",
       "1                              Planetwise Wipe Pouch   \n",
       "2                Annas Dream Full Quilt with 2 Shams   \n",
       "3  Stop Pacifier Sucking without tears with Thumb...   \n",
       "4  Stop Pacifier Sucking without tears with Thumb...   \n",
       "\n",
       "                                              review  rating  \n",
       "0  These flannel wipes are OK, but in my opinion ...       3  \n",
       "1  it came early and was not disappointed. i love...       5  \n",
       "2  Very soft and comfortable and warmer than it l...       5  \n",
       "3  This is a product well worth the purchase.  I ...       5  \n",
       "4  All of my kids have cried non-stop when I trie...       5  "
      ]
     },
     "execution_count": 2,
     "metadata": {},
     "output_type": "execute_result"
    }
   ],
   "source": [
    "df = pd.read_csv('amazon_baby.csv')\n",
    "df.head()"
   ]
  },
  {
   "cell_type": "code",
   "execution_count": 3,
   "id": "8572574f",
   "metadata": {},
   "outputs": [],
   "source": [
    "df['sentiments'] = df.rating.apply(lambda x: 0 if x in [1, 2] else 1)"
   ]
  },
  {
   "cell_type": "code",
   "execution_count": 4,
   "id": "0048a00d",
   "metadata": {},
   "outputs": [
    {
     "data": {
      "text/html": [
       "<div>\n",
       "<style scoped>\n",
       "    .dataframe tbody tr th:only-of-type {\n",
       "        vertical-align: middle;\n",
       "    }\n",
       "\n",
       "    .dataframe tbody tr th {\n",
       "        vertical-align: top;\n",
       "    }\n",
       "\n",
       "    .dataframe thead th {\n",
       "        text-align: right;\n",
       "    }\n",
       "</style>\n",
       "<table border=\"1\" class=\"dataframe\">\n",
       "  <thead>\n",
       "    <tr style=\"text-align: right;\">\n",
       "      <th></th>\n",
       "      <th>name</th>\n",
       "      <th>review</th>\n",
       "      <th>rating</th>\n",
       "      <th>sentiments</th>\n",
       "    </tr>\n",
       "  </thead>\n",
       "  <tbody>\n",
       "    <tr>\n",
       "      <th>0</th>\n",
       "      <td>Planetwise Flannel Wipes</td>\n",
       "      <td>These flannel wipes are OK, but in my opinion ...</td>\n",
       "      <td>3</td>\n",
       "      <td>1</td>\n",
       "    </tr>\n",
       "    <tr>\n",
       "      <th>1</th>\n",
       "      <td>Planetwise Wipe Pouch</td>\n",
       "      <td>it came early and was not disappointed. i love...</td>\n",
       "      <td>5</td>\n",
       "      <td>1</td>\n",
       "    </tr>\n",
       "    <tr>\n",
       "      <th>2</th>\n",
       "      <td>Annas Dream Full Quilt with 2 Shams</td>\n",
       "      <td>Very soft and comfortable and warmer than it l...</td>\n",
       "      <td>5</td>\n",
       "      <td>1</td>\n",
       "    </tr>\n",
       "    <tr>\n",
       "      <th>3</th>\n",
       "      <td>Stop Pacifier Sucking without tears with Thumb...</td>\n",
       "      <td>This is a product well worth the purchase.  I ...</td>\n",
       "      <td>5</td>\n",
       "      <td>1</td>\n",
       "    </tr>\n",
       "    <tr>\n",
       "      <th>4</th>\n",
       "      <td>Stop Pacifier Sucking without tears with Thumb...</td>\n",
       "      <td>All of my kids have cried non-stop when I trie...</td>\n",
       "      <td>5</td>\n",
       "      <td>1</td>\n",
       "    </tr>\n",
       "  </tbody>\n",
       "</table>\n",
       "</div>"
      ],
      "text/plain": [
       "                                                name  \\\n",
       "0                           Planetwise Flannel Wipes   \n",
       "1                              Planetwise Wipe Pouch   \n",
       "2                Annas Dream Full Quilt with 2 Shams   \n",
       "3  Stop Pacifier Sucking without tears with Thumb...   \n",
       "4  Stop Pacifier Sucking without tears with Thumb...   \n",
       "\n",
       "                                              review  rating  sentiments  \n",
       "0  These flannel wipes are OK, but in my opinion ...       3           1  \n",
       "1  it came early and was not disappointed. i love...       5           1  \n",
       "2  Very soft and comfortable and warmer than it l...       5           1  \n",
       "3  This is a product well worth the purchase.  I ...       5           1  \n",
       "4  All of my kids have cried non-stop when I trie...       5           1  "
      ]
     },
     "execution_count": 4,
     "metadata": {},
     "output_type": "execute_result"
    }
   ],
   "source": [
    "df.head()"
   ]
  },
  {
   "cell_type": "code",
   "execution_count": 5,
   "id": "ca2ea202",
   "metadata": {},
   "outputs": [
    {
     "name": "stdout",
     "output_type": "stream",
     "text": [
      "(146825,)\n",
      "(146825,)\n",
      "(36706,)\n",
      "(36706,)\n"
     ]
    }
   ],
   "source": [
    "# Splitting the dataset\n",
    "split = round(len(df)*0.8)\n",
    "train_reviews = df['review'][:split]\n",
    "train_label = df['sentiments'][:split]\n",
    "test_reviews = df['review'][split:]\n",
    "test_label = df['sentiments'][split:]\n",
    "\n",
    "print(train_reviews.shape)\n",
    "print(train_label.shape)\n",
    "print(test_reviews.shape)\n",
    "print(test_label.shape)"
   ]
  },
  {
   "cell_type": "code",
   "execution_count": 6,
   "id": "6e1b9eca",
   "metadata": {},
   "outputs": [],
   "source": [
    "# Convert all reviews to a string. Just a check if they arent in a string format already\n",
    "import numpy as np\n",
    "training_sentences = []\n",
    "training_labels = []\n",
    "testing_sentences = []\n",
    "testing_labels = []\n",
    "for row in train_reviews:\n",
    "    training_sentences.append(str(row))\n",
    "for row in train_label:\n",
    "    training_labels.append(row)\n",
    "for row in test_reviews:\n",
    "    testing_sentences.append(str(row))\n",
    "for row in test_label:\n",
    "    testing_labels.append(row)"
   ]
  },
  {
   "cell_type": "code",
   "execution_count": 7,
   "id": "e4849ee6",
   "metadata": {},
   "outputs": [],
   "source": [
    "# Data processing parameters and hyper-parameters\n",
    "vocab_size = 40000\n",
    "embedding_dim = 16\n",
    "max_length = 120\n",
    "trunc_type = 'post'\n",
    "oov_tok = '<oov>'\n",
    "padding_type = 'post'"
   ]
  },
  {
   "cell_type": "code",
   "execution_count": 8,
   "id": "693023f4",
   "metadata": {},
   "outputs": [],
   "source": [
    "# Tokenizing the words\n",
    "tokenizer = Tokenizer(num_words=vocab_size, oov_token=oov_tok)\n",
    "tokenizer.fit_on_texts(training_sentences)\n",
    "word_index = tokenizer.word_index"
   ]
  },
  {
   "cell_type": "code",
   "execution_count": 9,
   "id": "cf06d19a",
   "metadata": {},
   "outputs": [],
   "source": [
    "#Sentence to block of words\n",
    "sequences = tokenizer.texts_to_sequences(training_sentences)  \n",
    "\n",
    "# Padd if they are lesser than max length\n",
    "padded = pad_sequences(sequences, maxlen=max_length, truncating=trunc_type)\n",
    "\n",
    "# Do the same for the test data\n",
    "testing_sentences = tokenizer.texts_to_sequences(testing_sentences)\n",
    "testing_padded = pad_sequences(testing_sentences, maxlen=max_length)"
   ]
  },
  {
   "cell_type": "code",
   "execution_count": 10,
   "id": "f4ce90b8",
   "metadata": {},
   "outputs": [
    {
     "name": "stdout",
     "output_type": "stream",
     "text": [
      "[48, 2539, 447, 24, 630, 19, 13, 11, 1145, 22, 219, 687, 5, 65, 294, 32670, 6582, 383, 447, 2630, 604, 800, 32671, 24, 548, 46, 7, 1702, 1118, 1769, 3, 35, 571, 1000, 160, 5, 38, 383, 447, 10, 331, 3, 2763, 3, 18, 110, 32672, 245, 361, 6983, 447, 32673, 69, 396, 82, 77, 3, 157, 6, 698, 49, 62, 28, 24, 1002, 6, 56, 1285, 3, 18, 46, 2899, 533, 10, 7, 126, 14, 7564, 73, 366, 711]\n"
     ]
    }
   ],
   "source": [
    "print(sequences[0])"
   ]
  },
  {
   "cell_type": "code",
   "execution_count": 11,
   "id": "6b32c1fa",
   "metadata": {},
   "outputs": [],
   "source": [
    "import pickle\n",
    "\n",
    "# saving\n",
    "with open('tokenizer.pickle', 'wb') as handle:\n",
    "    pickle.dump(tokenizer, handle, protocol=pickle.HIGHEST_PROTOCOL)"
   ]
  },
  {
   "cell_type": "code",
   "execution_count": 12,
   "id": "fd12a307",
   "metadata": {},
   "outputs": [],
   "source": [
    "# Transforming to np arryas\n",
    "# train_seq = np.array(sequences)\n",
    "# train_labels = np.array(padded)\n",
    "# test_seq = np.array(testing_sentences)\n",
    "# test_labels = np.array(testing_padded)\n",
    "\n",
    "# print(train_seq.shape)\n",
    "# print(train_labels.shape)\n",
    "# print(test_seq.shape)\n",
    "# print(test_labels.shape)"
   ]
  },
  {
   "cell_type": "code",
   "execution_count": 13,
   "id": "ac74d076",
   "metadata": {},
   "outputs": [],
   "source": [
    "# Train_test split\n",
    "from sklearn.model_selection import train_test_split\n",
    "X_seq, val_seq, X_labels_list, val_labels_list = train_test_split(padded, training_labels, test_size=0.2)"
   ]
  },
  {
   "cell_type": "code",
   "execution_count": 14,
   "id": "c9b03d50",
   "metadata": {},
   "outputs": [
    {
     "name": "stdout",
     "output_type": "stream",
     "text": [
      "(117460, 120)\n",
      "117460\n",
      "(29365, 120)\n",
      "29365\n",
      "\n",
      "(117460,)\n",
      "(29365,)\n"
     ]
    }
   ],
   "source": [
    "print(X_seq.shape)\n",
    "print(len(X_labels_list))\n",
    "print(val_seq.shape)\n",
    "print(len(val_labels_list))\n",
    "\n",
    "X_labels = np.array(X_labels_list)\n",
    "val_labels = np.array(val_labels_list)\n",
    "\n",
    "print()\n",
    "print(X_labels.shape)\n",
    "print(val_labels.shape)"
   ]
  },
  {
   "cell_type": "code",
   "execution_count": 15,
   "id": "b07f4ae7",
   "metadata": {},
   "outputs": [],
   "source": [
    "# Model creation\n",
    "from tensorflow.keras import Sequential\n",
    "from tensorflow.keras.layers import Embedding,GlobalAveragePooling1D,Dense"
   ]
  },
  {
   "cell_type": "code",
   "execution_count": 16,
   "id": "83d87d5c",
   "metadata": {},
   "outputs": [],
   "source": [
    "model = Sequential()\n",
    "model.add(Embedding(vocab_size, embedding_dim,input_length=max_length))\n",
    "model.add(GlobalAveragePooling1D())\n",
    "model.add(Dense(6, activation='relu'))\n",
    "model.add(Dense(1, activation='sigmoid'))"
   ]
  },
  {
   "cell_type": "code",
   "execution_count": 17,
   "id": "50833bde",
   "metadata": {},
   "outputs": [],
   "source": [
    "model.compile(loss='binary_crossentropy', optimizer='adam', metrics=['accuracy'])"
   ]
  },
  {
   "cell_type": "code",
   "execution_count": null,
   "id": "2b1ffbe5",
   "metadata": {},
   "outputs": [],
   "source": [
    "# from tensorflow.keras.callbacks import ModelCheckpoint\n",
    "# checkpoint_path = \"model_checkpoint\"\n",
    "# checkpoint = ModelCheckpoint(filepath=checkpoint_path,frequency='epoch',save_weights_only=True,verbose=1)\n"
   ]
  },
  {
   "cell_type": "code",
   "execution_count": 19,
   "id": "87a40f4f",
   "metadata": {},
   "outputs": [
    {
     "name": "stdout",
     "output_type": "stream",
     "text": [
      "Epoch 1/4\n",
      "3671/3671 [==============================] - 48s 13ms/step - loss: 0.3020 - accuracy: 0.8761 - val_loss: 0.2392 - val_accuracy: 0.8975\n",
      "Epoch 2/4\n",
      "3671/3671 [==============================] - 51s 14ms/step - loss: 0.2151 - accuracy: 0.9112 - val_loss: 0.2213 - val_accuracy: 0.9079\n",
      "Epoch 3/4\n",
      "3671/3671 [==============================] - 44s 12ms/step - loss: 0.1964 - accuracy: 0.9194 - val_loss: 0.2161 - val_accuracy: 0.9094\n",
      "Epoch 4/4\n",
      "3671/3671 [==============================] - 46s 13ms/step - loss: 0.1829 - accuracy: 0.9245 - val_loss: 0.2169 - val_accuracy: 0.9102\n"
     ]
    },
    {
     "data": {
      "image/png": "[encoded data removed]",
      "text/plain": [
       "<Figure size 432x288 with 1 Axes>"
      ]
     },
     "metadata": {
      "needs_background": "light"
     },
     "output_type": "display_data"
    }
   ],
   "source": [
    "num_epochs = 4\n",
    "history = model.fit(X_seq, X_labels, epochs=num_epochs, validation_data=(val_seq, val_labels))\n",
    "\n",
    "import matplotlib.pyplot as plt\n",
    "\n",
    "plt.plot(history.history['loss'])\n",
    "plt.plot(history.history['val_loss'])\n",
    "plt.title('Loss vs. epochs')\n",
    "plt.ylabel('Loss')\n",
    "plt.xlabel('Epoch')\n",
    "plt.legend(['Training', 'Validation'], loc='upper right')\n",
    "plt.show()"
   ]
  },
  {
   "cell_type": "code",
   "execution_count": 20,
   "id": "24910a0a",
   "metadata": {},
   "outputs": [
    {
     "name": "stdout",
     "output_type": "stream",
     "text": [
      "INFO:tensorflow:Assets written to: SentimentModel\\assets\n"
     ]
    }
   ],
   "source": [
    "model.save('SentimentModel')"
   ]
  },
  {
   "cell_type": "code",
   "execution_count": 21,
   "id": "24756ce8",
   "metadata": {},
   "outputs": [],
   "source": [
    "def get_test_accuracy(model, x_test, y_test):\n",
    "    test_loss, test_acc = model.evaluate(x=x_test, y=y_test, verbose=0)\n",
    "    print('accuracy: {acc:0.3f}'.format(acc=test_acc))"
   ]
  },
  {
   "cell_type": "code",
   "execution_count": 22,
   "id": "96e1d133",
   "metadata": {},
   "outputs": [],
   "source": [
    "y_test = np.array(testing_labels)\n",
    "x_test = testing_padded"
   ]
  },
  {
   "cell_type": "code",
   "execution_count": 23,
   "id": "7a128a68",
   "metadata": {},
   "outputs": [
    {
     "name": "stdout",
     "output_type": "stream",
     "text": [
      "Train Accuracy:\n",
      "accuracy: 0.930\n",
      "\n",
      "Val Accuracy:\n",
      "accuracy: 0.910\n",
      "\n",
      "Test Accuracy:\n",
      "accuracy: 0.917\n"
     ]
    }
   ],
   "source": [
    "print(\"Train Accuracy:\")\n",
    "get_test_accuracy(model,X_seq,X_labels)\n",
    "\n",
    "print(\"\\nVal Accuracy:\")\n",
    "get_test_accuracy(model,val_seq,val_labels)\n",
    "\n",
    "print(\"\\nTest Accuracy:\")\n",
    "get_test_accuracy(model,x_test,y_test)"
   ]
  },
  {
   "cell_type": "code",
   "execution_count": 24,
   "id": "03d7d074",
   "metadata": {},
   "outputs": [],
   "source": [
    "# checkpoint_path = \"model_checkpoint\"\n",
    "# model.load_weights(checkpoint_path)"
   ]
  },
  {
   "cell_type": "code",
   "execution_count": 84,
   "id": "6d019745",
   "metadata": {},
   "outputs": [],
   "source": [
    "# def predict_sentiment(predict_msg):\n",
    "#     new_seq = tokenizer.texts_to_sequences(predict_msg)\n",
    "#     padded = pad_sequences(new_seq, maxlen =max_length,\n",
    "#                       padding = padding_type,\n",
    "#                       truncating=trunc_type)\n",
    "#     return (model.predict(padded))"
   ]
  },
  {
   "cell_type": "code",
   "execution_count": 91,
   "id": "fe7b683c",
   "metadata": {},
   "outputs": [
    {
     "name": "stdout",
     "output_type": "stream",
     "text": [
      "Welcom to Sentiment Analysis\n",
      "===================================================================\n",
      "Input string: that was very bad. Extremely poor quality!\n",
      "Negative feedback!\n",
      "Do you want another prediction? (y/[n])? n\n",
      "bye!\n"
     ]
    }
   ],
   "source": [
    "# def main():\n",
    "#     print(\"Welcom to Sentiment Analysis\")\n",
    "#     print(\"===================================================================\")\n",
    "#     while(True):\n",
    "#         user_input = input(\"Input string: \")\n",
    "#         prediction = np.array(predict_sentiment([user_input]))[0][0]\n",
    "#         if prediction>=0.5:\n",
    "#             print(\"Positive Feedback!\")\n",
    "#         else:\n",
    "#             print(\"Negative feedback!\")\n",
    "\n",
    "\n",
    "#         user_input = input('Do you want another prediction? (y/[n])? ')\n",
    "#         if user_input != 'y':\n",
    "#             print(\"bye!\")\n",
    "#             break\n",
    "\n",
    "\n",
    "# # In[15]:\n",
    "\n",
    "\n",
    "# if __name__ == '__main__':\n",
    "#     main()\n"
   ]
  },
  {
   "cell_type": "code",
   "execution_count": null,
   "id": "4f467054",
   "metadata": {},
   "outputs": [],
   "source": []
  }
 ],
 "metadata": {
  "kernelspec": {
   "display_name": "Python 3 (ipykernel)",
   "language": "python",
   "name": "python3"
  },
  "language_info": {
   "codemirror_mode": {
    "name": "ipython",
    "version": 3
   },
   "file_extension": ".py",
   "mimetype": "text/x-python",
   "name": "python",
   "nbconvert_exporter": "python",
   "pygments_lexer": "ipython3",
   "version": "3.9.2"
  }
 },
 "nbformat": 4,
 "nbformat_minor": 5
}
